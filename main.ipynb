import sys
sys.path.append("../scripts")

from generate_script import generate_script
from search_video import search_video, download_video
from upload_to_drive import upload_to_google_drive
from post_to_youtube import upload_to_youtube

# Шаг 1: Генерация сценария
prompt = "Напиши сценарий для видео о преимуществах искусственного интеллекта."
script, video_url = generate_script(prompt)  # ✅ Теперь возвращается `video_url`
print("Сценарий создан:", script)

# Шаг 2: Проверка `video_url`
if not video_url:
    print("[ERROR] Видео не найдено, остановка процесса!")
else:
    print("Найдено видео:", video_url)

    # Шаг 3: Скачивание видео
    video_path = "../outputs/videos/pexels_video.mp4"
    download_video(video_url, video_path)
    print("Видео загружено:", video_path)

    # Шаг 4: Загрузка на Google Диск
    file_name = "pexels_video.mp4"
    file_id = upload_to_google_drive(video_path, file_name)
    print("Видео загружено на Google Диск с ID:", file_id)

    # Шаг 5: Загрузка на YouTube
    title = "Преимущества искусственного интеллекта"
    description = script  # Используем сгенерированный сценарий
    upload_to_youtube(video_path, title, description)
    print("Видео опубликовано на YouTube.")